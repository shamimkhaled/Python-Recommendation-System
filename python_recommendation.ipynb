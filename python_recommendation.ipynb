{
  "metadata": {
    "kernelspec": {
      "language": "python",
      "display_name": "Python 3",
      "name": "python3"
    },
    "language_info": {
      "name": "python",
      "version": "3.7.12",
      "mimetype": "text/x-python",
      "codemirror_mode": {
        "name": "ipython",
        "version": 3
      },
      "pygments_lexer": "ipython3",
      "nbconvert_exporter": "python",
      "file_extension": ".py"
    },
    "colab": {
      "provenance": []
    }
  },
  "nbformat_minor": 0,
  "nbformat": 4,
  "cells": [
    {
      "cell_type": "code",
      "source": [
        "import numpy as np # linear algebra\n",
        "import pandas as pd # data processing, CSV file I/O (e.g. pd.read_csv)"
      ],
      "metadata": {
        "_uuid": "8f2839f25d086af736a60e9eeb907d3b93b6e0e5",
        "_cell_guid": "b1076dfc-b9ad-4769-8c92-a6c4dae69d19",
        "execution": {
          "iopub.status.busy": "2022-10-16T17:33:42.709900Z",
          "iopub.execute_input": "2022-10-16T17:33:42.710373Z",
          "iopub.status.idle": "2022-10-16T17:33:42.745022Z",
          "shell.execute_reply.started": "2022-10-16T17:33:42.710282Z",
          "shell.execute_reply": "2022-10-16T17:33:42.744270Z"
        },
        "trusted": true,
        "id": "8LG5yAV3DLGo"
      },
      "execution_count": null,
      "outputs": []
    },
    {
      "cell_type": "code",
      "source": [
        "df=pd.read_csv('/content/Datasets Python.csv')\n",
        "df.head()"
      ],
      "metadata": {
        "execution": {
          "iopub.status.busy": "2022-10-16T17:33:42.746409Z",
          "iopub.execute_input": "2022-10-16T17:33:42.746852Z",
          "iopub.status.idle": "2022-10-16T17:33:42.936669Z",
          "shell.execute_reply.started": "2022-10-16T17:33:42.746821Z",
          "shell.execute_reply": "2022-10-16T17:33:42.935688Z"
        },
        "trusted": true,
        "colab": {
          "base_uri": "https://localhost:8080/",
          "height": 206
        },
        "id": "pK2KWlm8DLGv",
        "outputId": "348e48a2-e8ba-4487-c6e9-fdd9680cad96"
      },
      "execution_count": null,
      "outputs": [
        {
          "output_type": "execute_result",
          "data": {
            "text/plain": [
              "                                         Title  \\\n",
              "0                             Python Operators   \n",
              "1  Increment and Decrement Operators in Python   \n",
              "2        Logical Operators on String in Python   \n",
              "3      Inplace vs Standard Operators in Python   \n",
              "4                             Python Datatypes   \n",
              "\n",
              "                                         Description  \n",
              "0  Python Operators in general are used to perfor...  \n",
              "1  If you’re familiar with Python, you would have...  \n",
              "2  Python logical operator \"and\" and \"or\" can be ...  \n",
              "3  Inplace operation is an operation which direct...  \n",
              "4  Data types are the classification or categoriz...  "
            ],
            "text/html": [
              "\n",
              "  <div id=\"df-9334d287-c86c-452f-b44b-117f9532374f\">\n",
              "    <div class=\"colab-df-container\">\n",
              "      <div>\n",
              "<style scoped>\n",
              "    .dataframe tbody tr th:only-of-type {\n",
              "        vertical-align: middle;\n",
              "    }\n",
              "\n",
              "    .dataframe tbody tr th {\n",
              "        vertical-align: top;\n",
              "    }\n",
              "\n",
              "    .dataframe thead th {\n",
              "        text-align: right;\n",
              "    }\n",
              "</style>\n",
              "<table border=\"1\" class=\"dataframe\">\n",
              "  <thead>\n",
              "    <tr style=\"text-align: right;\">\n",
              "      <th></th>\n",
              "      <th>Title</th>\n",
              "      <th>Description</th>\n",
              "    </tr>\n",
              "  </thead>\n",
              "  <tbody>\n",
              "    <tr>\n",
              "      <th>0</th>\n",
              "      <td>Python Operators</td>\n",
              "      <td>Python Operators in general are used to perfor...</td>\n",
              "    </tr>\n",
              "    <tr>\n",
              "      <th>1</th>\n",
              "      <td>Increment and Decrement Operators in Python</td>\n",
              "      <td>If you’re familiar with Python, you would have...</td>\n",
              "    </tr>\n",
              "    <tr>\n",
              "      <th>2</th>\n",
              "      <td>Logical Operators on String in Python</td>\n",
              "      <td>Python logical operator \"and\" and \"or\" can be ...</td>\n",
              "    </tr>\n",
              "    <tr>\n",
              "      <th>3</th>\n",
              "      <td>Inplace vs Standard Operators in Python</td>\n",
              "      <td>Inplace operation is an operation which direct...</td>\n",
              "    </tr>\n",
              "    <tr>\n",
              "      <th>4</th>\n",
              "      <td>Python Datatypes</td>\n",
              "      <td>Data types are the classification or categoriz...</td>\n",
              "    </tr>\n",
              "  </tbody>\n",
              "</table>\n",
              "</div>\n",
              "      <button class=\"colab-df-convert\" onclick=\"convertToInteractive('df-9334d287-c86c-452f-b44b-117f9532374f')\"\n",
              "              title=\"Convert this dataframe to an interactive table.\"\n",
              "              style=\"display:none;\">\n",
              "        \n",
              "  <svg xmlns=\"http://www.w3.org/2000/svg\" height=\"24px\"viewBox=\"0 0 24 24\"\n",
              "       width=\"24px\">\n",
              "    <path d=\"M0 0h24v24H0V0z\" fill=\"none\"/>\n",
              "    <path d=\"M18.56 5.44l.94 2.06.94-2.06 2.06-.94-2.06-.94-.94-2.06-.94 2.06-2.06.94zm-11 1L8.5 8.5l.94-2.06 2.06-.94-2.06-.94L8.5 2.5l-.94 2.06-2.06.94zm10 10l.94 2.06.94-2.06 2.06-.94-2.06-.94-.94-2.06-.94 2.06-2.06.94z\"/><path d=\"M17.41 7.96l-1.37-1.37c-.4-.4-.92-.59-1.43-.59-.52 0-1.04.2-1.43.59L10.3 9.45l-7.72 7.72c-.78.78-.78 2.05 0 2.83L4 21.41c.39.39.9.59 1.41.59.51 0 1.02-.2 1.41-.59l7.78-7.78 2.81-2.81c.8-.78.8-2.07 0-2.86zM5.41 20L4 18.59l7.72-7.72 1.47 1.35L5.41 20z\"/>\n",
              "  </svg>\n",
              "      </button>\n",
              "      \n",
              "  <style>\n",
              "    .colab-df-container {\n",
              "      display:flex;\n",
              "      flex-wrap:wrap;\n",
              "      gap: 12px;\n",
              "    }\n",
              "\n",
              "    .colab-df-convert {\n",
              "      background-color: #E8F0FE;\n",
              "      border: none;\n",
              "      border-radius: 50%;\n",
              "      cursor: pointer;\n",
              "      display: none;\n",
              "      fill: #1967D2;\n",
              "      height: 32px;\n",
              "      padding: 0 0 0 0;\n",
              "      width: 32px;\n",
              "    }\n",
              "\n",
              "    .colab-df-convert:hover {\n",
              "      background-color: #E2EBFA;\n",
              "      box-shadow: 0px 1px 2px rgba(60, 64, 67, 0.3), 0px 1px 3px 1px rgba(60, 64, 67, 0.15);\n",
              "      fill: #174EA6;\n",
              "    }\n",
              "\n",
              "    [theme=dark] .colab-df-convert {\n",
              "      background-color: #3B4455;\n",
              "      fill: #D2E3FC;\n",
              "    }\n",
              "\n",
              "    [theme=dark] .colab-df-convert:hover {\n",
              "      background-color: #434B5C;\n",
              "      box-shadow: 0px 1px 3px 1px rgba(0, 0, 0, 0.15);\n",
              "      filter: drop-shadow(0px 1px 2px rgba(0, 0, 0, 0.3));\n",
              "      fill: #FFFFFF;\n",
              "    }\n",
              "  </style>\n",
              "\n",
              "      <script>\n",
              "        const buttonEl =\n",
              "          document.querySelector('#df-9334d287-c86c-452f-b44b-117f9532374f button.colab-df-convert');\n",
              "        buttonEl.style.display =\n",
              "          google.colab.kernel.accessAllowed ? 'block' : 'none';\n",
              "\n",
              "        async function convertToInteractive(key) {\n",
              "          const element = document.querySelector('#df-9334d287-c86c-452f-b44b-117f9532374f');\n",
              "          const dataTable =\n",
              "            await google.colab.kernel.invokeFunction('convertToInteractive',\n",
              "                                                     [key], {});\n",
              "          if (!dataTable) return;\n",
              "\n",
              "          const docLinkHtml = 'Like what you see? Visit the ' +\n",
              "            '<a target=\"_blank\" href=https://colab.research.google.com/notebooks/data_table.ipynb>data table notebook</a>'\n",
              "            + ' to learn more about interactive tables.';\n",
              "          element.innerHTML = '';\n",
              "          dataTable['output_type'] = 'display_data';\n",
              "          await google.colab.output.renderOutput(dataTable, element);\n",
              "          const docLink = document.createElement('div');\n",
              "          docLink.innerHTML = docLinkHtml;\n",
              "          element.appendChild(docLink);\n",
              "        }\n",
              "      </script>\n",
              "    </div>\n",
              "  </div>\n",
              "  "
            ]
          },
          "metadata": {},
          "execution_count": 5
        }
      ]
    },
    {
      "cell_type": "code",
      "source": [
        "#df.drop('Title',inplace=True,axis=1)\n",
        "#df.head()"
      ],
      "metadata": {
        "execution": {
          "iopub.status.busy": "2022-10-16T17:33:42.937896Z",
          "iopub.execute_input": "2022-10-16T17:33:42.938248Z",
          "iopub.status.idle": "2022-10-16T17:33:42.956117Z",
          "shell.execute_reply.started": "2022-10-16T17:33:42.938218Z",
          "shell.execute_reply": "2022-10-16T17:33:42.955028Z"
        },
        "trusted": true,
        "id": "AxqPFoBqDLGw"
      },
      "execution_count": null,
      "outputs": []
    },
    {
      "cell_type": "code",
      "source": [
        "import matplotlib.pyplot as plt\n",
        "import seaborn as sns"
      ],
      "metadata": {
        "execution": {
          "iopub.status.busy": "2022-10-16T17:33:42.958610Z",
          "iopub.execute_input": "2022-10-16T17:33:42.959194Z",
          "iopub.status.idle": "2022-10-16T17:33:44.044468Z",
          "shell.execute_reply.started": "2022-10-16T17:33:42.959127Z",
          "shell.execute_reply": "2022-10-16T17:33:44.043362Z"
        },
        "trusted": true,
        "id": "qqKHj-JKDLGx"
      },
      "execution_count": null,
      "outputs": []
    },
    {
      "cell_type": "code",
      "source": [
        "df.info()"
      ],
      "metadata": {
        "execution": {
          "iopub.status.busy": "2022-10-16T17:33:44.087864Z",
          "iopub.execute_input": "2022-10-16T17:33:44.088380Z",
          "iopub.status.idle": "2022-10-16T17:33:44.111256Z",
          "shell.execute_reply.started": "2022-10-16T17:33:44.088339Z",
          "shell.execute_reply": "2022-10-16T17:33:44.110130Z"
        },
        "trusted": true,
        "colab": {
          "base_uri": "https://localhost:8080/"
        },
        "id": "b6Fs-bp4DLGy",
        "outputId": "7655f020-2686-483e-984e-7ffe5e2855fc"
      },
      "execution_count": null,
      "outputs": [
        {
          "output_type": "stream",
          "name": "stdout",
          "text": [
            "<class 'pandas.core.frame.DataFrame'>\n",
            "RangeIndex: 80 entries, 0 to 79\n",
            "Data columns (total 2 columns):\n",
            " #   Column       Non-Null Count  Dtype \n",
            "---  ------       --------------  ----- \n",
            " 0   Title        80 non-null     object\n",
            " 1   Description  80 non-null     object\n",
            "dtypes: object(2)\n",
            "memory usage: 1.4+ KB\n"
          ]
        }
      ]
    },
    {
      "cell_type": "code",
      "source": [
        "df['Title']=df['Title'].apply(lambda x:x.replace(':',' '))\n",
        "df['Title']=df['Title'].apply(lambda x:x.replace(',',' '))\n",
        "df['Title']=df['Title'].apply(lambda x:x.replace('-',' '))\n",
        "\n",
        "df['Description']=df['Description'].apply(lambda x:x.replace('-',' '))\n",
        "df['Description']=df['Description'].apply(lambda x:x.replace('.',' '))\n",
        "df['Description']=df['Description'].apply(lambda x:x.replace(':',' '))\n",
        "df['Description']=df['Description'].apply(lambda x:x.replace(',',' '))\n"
      ],
      "metadata": {
        "execution": {
          "iopub.status.busy": "2022-10-16T17:33:44.503351Z",
          "iopub.execute_input": "2022-10-16T17:33:44.503887Z",
          "iopub.status.idle": "2022-10-16T17:33:44.568360Z",
          "shell.execute_reply.started": "2022-10-16T17:33:44.503836Z",
          "shell.execute_reply": "2022-10-16T17:33:44.567590Z"
        },
        "trusted": true,
        "id": "2YhyDuDoDLGz"
      },
      "execution_count": null,
      "outputs": []
    },
    {
      "cell_type": "code",
      "source": [
        "df.head()"
      ],
      "metadata": {
        "execution": {
          "iopub.status.busy": "2022-10-16T17:33:44.571356Z",
          "iopub.execute_input": "2022-10-16T17:33:44.571992Z",
          "iopub.status.idle": "2022-10-16T17:33:44.592597Z",
          "shell.execute_reply.started": "2022-10-16T17:33:44.571941Z",
          "shell.execute_reply": "2022-10-16T17:33:44.590917Z"
        },
        "trusted": true,
        "colab": {
          "base_uri": "https://localhost:8080/",
          "height": 206
        },
        "id": "N2A3XBA7DLG0",
        "outputId": "02fb3503-f28a-4da0-ef9b-02ce027221cb"
      },
      "execution_count": null,
      "outputs": [
        {
          "output_type": "execute_result",
          "data": {
            "text/plain": [
              "                                         Title  \\\n",
              "0                             Python Operators   \n",
              "1  Increment and Decrement Operators in Python   \n",
              "2        Logical Operators on String in Python   \n",
              "3      Inplace vs Standard Operators in Python   \n",
              "4                             Python Datatypes   \n",
              "\n",
              "                                         Description  \n",
              "0  Python Operators in general are used to perfor...  \n",
              "1  If you’re familiar with Python  you would have...  \n",
              "2  Python logical operator \"and\" and \"or\" can be ...  \n",
              "3  Inplace operation is an operation which direct...  \n",
              "4  Data types are the classification or categoriz...  "
            ],
            "text/html": [
              "\n",
              "  <div id=\"df-d4525087-0df7-4542-b7f5-2addd791f1f4\">\n",
              "    <div class=\"colab-df-container\">\n",
              "      <div>\n",
              "<style scoped>\n",
              "    .dataframe tbody tr th:only-of-type {\n",
              "        vertical-align: middle;\n",
              "    }\n",
              "\n",
              "    .dataframe tbody tr th {\n",
              "        vertical-align: top;\n",
              "    }\n",
              "\n",
              "    .dataframe thead th {\n",
              "        text-align: right;\n",
              "    }\n",
              "</style>\n",
              "<table border=\"1\" class=\"dataframe\">\n",
              "  <thead>\n",
              "    <tr style=\"text-align: right;\">\n",
              "      <th></th>\n",
              "      <th>Title</th>\n",
              "      <th>Description</th>\n",
              "    </tr>\n",
              "  </thead>\n",
              "  <tbody>\n",
              "    <tr>\n",
              "      <th>0</th>\n",
              "      <td>Python Operators</td>\n",
              "      <td>Python Operators in general are used to perfor...</td>\n",
              "    </tr>\n",
              "    <tr>\n",
              "      <th>1</th>\n",
              "      <td>Increment and Decrement Operators in Python</td>\n",
              "      <td>If you’re familiar with Python  you would have...</td>\n",
              "    </tr>\n",
              "    <tr>\n",
              "      <th>2</th>\n",
              "      <td>Logical Operators on String in Python</td>\n",
              "      <td>Python logical operator \"and\" and \"or\" can be ...</td>\n",
              "    </tr>\n",
              "    <tr>\n",
              "      <th>3</th>\n",
              "      <td>Inplace vs Standard Operators in Python</td>\n",
              "      <td>Inplace operation is an operation which direct...</td>\n",
              "    </tr>\n",
              "    <tr>\n",
              "      <th>4</th>\n",
              "      <td>Python Datatypes</td>\n",
              "      <td>Data types are the classification or categoriz...</td>\n",
              "    </tr>\n",
              "  </tbody>\n",
              "</table>\n",
              "</div>\n",
              "      <button class=\"colab-df-convert\" onclick=\"convertToInteractive('df-d4525087-0df7-4542-b7f5-2addd791f1f4')\"\n",
              "              title=\"Convert this dataframe to an interactive table.\"\n",
              "              style=\"display:none;\">\n",
              "        \n",
              "  <svg xmlns=\"http://www.w3.org/2000/svg\" height=\"24px\"viewBox=\"0 0 24 24\"\n",
              "       width=\"24px\">\n",
              "    <path d=\"M0 0h24v24H0V0z\" fill=\"none\"/>\n",
              "    <path d=\"M18.56 5.44l.94 2.06.94-2.06 2.06-.94-2.06-.94-.94-2.06-.94 2.06-2.06.94zm-11 1L8.5 8.5l.94-2.06 2.06-.94-2.06-.94L8.5 2.5l-.94 2.06-2.06.94zm10 10l.94 2.06.94-2.06 2.06-.94-2.06-.94-.94-2.06-.94 2.06-2.06.94z\"/><path d=\"M17.41 7.96l-1.37-1.37c-.4-.4-.92-.59-1.43-.59-.52 0-1.04.2-1.43.59L10.3 9.45l-7.72 7.72c-.78.78-.78 2.05 0 2.83L4 21.41c.39.39.9.59 1.41.59.51 0 1.02-.2 1.41-.59l7.78-7.78 2.81-2.81c.8-.78.8-2.07 0-2.86zM5.41 20L4 18.59l7.72-7.72 1.47 1.35L5.41 20z\"/>\n",
              "  </svg>\n",
              "      </button>\n",
              "      \n",
              "  <style>\n",
              "    .colab-df-container {\n",
              "      display:flex;\n",
              "      flex-wrap:wrap;\n",
              "      gap: 12px;\n",
              "    }\n",
              "\n",
              "    .colab-df-convert {\n",
              "      background-color: #E8F0FE;\n",
              "      border: none;\n",
              "      border-radius: 50%;\n",
              "      cursor: pointer;\n",
              "      display: none;\n",
              "      fill: #1967D2;\n",
              "      height: 32px;\n",
              "      padding: 0 0 0 0;\n",
              "      width: 32px;\n",
              "    }\n",
              "\n",
              "    .colab-df-convert:hover {\n",
              "      background-color: #E2EBFA;\n",
              "      box-shadow: 0px 1px 2px rgba(60, 64, 67, 0.3), 0px 1px 3px 1px rgba(60, 64, 67, 0.15);\n",
              "      fill: #174EA6;\n",
              "    }\n",
              "\n",
              "    [theme=dark] .colab-df-convert {\n",
              "      background-color: #3B4455;\n",
              "      fill: #D2E3FC;\n",
              "    }\n",
              "\n",
              "    [theme=dark] .colab-df-convert:hover {\n",
              "      background-color: #434B5C;\n",
              "      box-shadow: 0px 1px 3px 1px rgba(0, 0, 0, 0.15);\n",
              "      filter: drop-shadow(0px 1px 2px rgba(0, 0, 0, 0.3));\n",
              "      fill: #FFFFFF;\n",
              "    }\n",
              "  </style>\n",
              "\n",
              "      <script>\n",
              "        const buttonEl =\n",
              "          document.querySelector('#df-d4525087-0df7-4542-b7f5-2addd791f1f4 button.colab-df-convert');\n",
              "        buttonEl.style.display =\n",
              "          google.colab.kernel.accessAllowed ? 'block' : 'none';\n",
              "\n",
              "        async function convertToInteractive(key) {\n",
              "          const element = document.querySelector('#df-d4525087-0df7-4542-b7f5-2addd791f1f4');\n",
              "          const dataTable =\n",
              "            await google.colab.kernel.invokeFunction('convertToInteractive',\n",
              "                                                     [key], {});\n",
              "          if (!dataTable) return;\n",
              "\n",
              "          const docLinkHtml = 'Like what you see? Visit the ' +\n",
              "            '<a target=\"_blank\" href=https://colab.research.google.com/notebooks/data_table.ipynb>data table notebook</a>'\n",
              "            + ' to learn more about interactive tables.';\n",
              "          element.innerHTML = '';\n",
              "          dataTable['output_type'] = 'display_data';\n",
              "          await google.colab.output.renderOutput(dataTable, element);\n",
              "          const docLink = document.createElement('div');\n",
              "          docLink.innerHTML = docLinkHtml;\n",
              "          element.appendChild(docLink);\n",
              "        }\n",
              "      </script>\n",
              "    </div>\n",
              "  </div>\n",
              "  "
            ]
          },
          "metadata": {},
          "execution_count": 10
        }
      ]
    },
    {
      "cell_type": "code",
      "source": [
        "df['Final Col']=df['Title']+' '+df['Description']\n",
        "df['Final Col']"
      ],
      "metadata": {
        "execution": {
          "iopub.status.busy": "2022-10-16T17:33:44.594635Z",
          "iopub.execute_input": "2022-10-16T17:33:44.595614Z",
          "iopub.status.idle": "2022-10-16T17:33:44.630835Z",
          "shell.execute_reply.started": "2022-10-16T17:33:44.595568Z",
          "shell.execute_reply": "2022-10-16T17:33:44.629857Z"
        },
        "trusted": true,
        "colab": {
          "base_uri": "https://localhost:8080/"
        },
        "id": "zuiNkpIPDLG1",
        "outputId": "49fa4988-a105-4c67-fbdd-e85dec2f2886"
      },
      "execution_count": null,
      "outputs": [
        {
          "output_type": "execute_result",
          "data": {
            "text/plain": [
              "0     Python Operators Python Operators in general a...\n",
              "1     Increment and Decrement Operators in Python If...\n",
              "2     Logical Operators on String in Python Python l...\n",
              "3     Inplace vs Standard Operators in Python Inplac...\n",
              "4     Python Datatypes Data types are the classifica...\n",
              "                            ...                        \n",
              "75    Python For Loops Python For loop is used for s...\n",
              "76    Python Nested Loops In Python programming lang...\n",
              "77    How to Break out of multiple loops in Python ?...\n",
              "78    Specifying the increment in for loops in Pytho...\n",
              "79    Python While Loop Python While Loop is used to...\n",
              "Name: Final Col, Length: 80, dtype: object"
            ]
          },
          "metadata": {},
          "execution_count": 11
        }
      ]
    },
    {
      "cell_type": "code",
      "source": [
        "df.head()"
      ],
      "metadata": {
        "execution": {
          "iopub.status.busy": "2022-10-16T17:33:44.632147Z",
          "iopub.execute_input": "2022-10-16T17:33:44.633003Z",
          "iopub.status.idle": "2022-10-16T17:33:44.653303Z",
          "shell.execute_reply.started": "2022-10-16T17:33:44.632958Z",
          "shell.execute_reply": "2022-10-16T17:33:44.652283Z"
        },
        "trusted": true,
        "colab": {
          "base_uri": "https://localhost:8080/",
          "height": 337
        },
        "id": "a2vZ1nz4DLG1",
        "outputId": "b6406e04-f03b-4b1b-dc71-c5a3e49f9e0f"
      },
      "execution_count": null,
      "outputs": [
        {
          "output_type": "execute_result",
          "data": {
            "text/plain": [
              "                                         Title  \\\n",
              "0                             Python Operators   \n",
              "1  Increment and Decrement Operators in Python   \n",
              "2        Logical Operators on String in Python   \n",
              "3      Inplace vs Standard Operators in Python   \n",
              "4                             Python Datatypes   \n",
              "\n",
              "                                         Description  \\\n",
              "0  Python Operators in general are used to perfor...   \n",
              "1  If you’re familiar with Python  you would have...   \n",
              "2  Python logical operator \"and\" and \"or\" can be ...   \n",
              "3  Inplace operation is an operation which direct...   \n",
              "4  Data types are the classification or categoriz...   \n",
              "\n",
              "                                           Final Col  \n",
              "0  Python Operators Python Operators in general a...  \n",
              "1  Increment and Decrement Operators in Python If...  \n",
              "2  Logical Operators on String in Python Python l...  \n",
              "3  Inplace vs Standard Operators in Python Inplac...  \n",
              "4  Python Datatypes Data types are the classifica...  "
            ],
            "text/html": [
              "\n",
              "  <div id=\"df-ae8a5b19-f0a9-4528-9f08-fa625fb988ee\">\n",
              "    <div class=\"colab-df-container\">\n",
              "      <div>\n",
              "<style scoped>\n",
              "    .dataframe tbody tr th:only-of-type {\n",
              "        vertical-align: middle;\n",
              "    }\n",
              "\n",
              "    .dataframe tbody tr th {\n",
              "        vertical-align: top;\n",
              "    }\n",
              "\n",
              "    .dataframe thead th {\n",
              "        text-align: right;\n",
              "    }\n",
              "</style>\n",
              "<table border=\"1\" class=\"dataframe\">\n",
              "  <thead>\n",
              "    <tr style=\"text-align: right;\">\n",
              "      <th></th>\n",
              "      <th>Title</th>\n",
              "      <th>Description</th>\n",
              "      <th>Final Col</th>\n",
              "    </tr>\n",
              "  </thead>\n",
              "  <tbody>\n",
              "    <tr>\n",
              "      <th>0</th>\n",
              "      <td>Python Operators</td>\n",
              "      <td>Python Operators in general are used to perfor...</td>\n",
              "      <td>Python Operators Python Operators in general a...</td>\n",
              "    </tr>\n",
              "    <tr>\n",
              "      <th>1</th>\n",
              "      <td>Increment and Decrement Operators in Python</td>\n",
              "      <td>If you’re familiar with Python  you would have...</td>\n",
              "      <td>Increment and Decrement Operators in Python If...</td>\n",
              "    </tr>\n",
              "    <tr>\n",
              "      <th>2</th>\n",
              "      <td>Logical Operators on String in Python</td>\n",
              "      <td>Python logical operator \"and\" and \"or\" can be ...</td>\n",
              "      <td>Logical Operators on String in Python Python l...</td>\n",
              "    </tr>\n",
              "    <tr>\n",
              "      <th>3</th>\n",
              "      <td>Inplace vs Standard Operators in Python</td>\n",
              "      <td>Inplace operation is an operation which direct...</td>\n",
              "      <td>Inplace vs Standard Operators in Python Inplac...</td>\n",
              "    </tr>\n",
              "    <tr>\n",
              "      <th>4</th>\n",
              "      <td>Python Datatypes</td>\n",
              "      <td>Data types are the classification or categoriz...</td>\n",
              "      <td>Python Datatypes Data types are the classifica...</td>\n",
              "    </tr>\n",
              "  </tbody>\n",
              "</table>\n",
              "</div>\n",
              "      <button class=\"colab-df-convert\" onclick=\"convertToInteractive('df-ae8a5b19-f0a9-4528-9f08-fa625fb988ee')\"\n",
              "              title=\"Convert this dataframe to an interactive table.\"\n",
              "              style=\"display:none;\">\n",
              "        \n",
              "  <svg xmlns=\"http://www.w3.org/2000/svg\" height=\"24px\"viewBox=\"0 0 24 24\"\n",
              "       width=\"24px\">\n",
              "    <path d=\"M0 0h24v24H0V0z\" fill=\"none\"/>\n",
              "    <path d=\"M18.56 5.44l.94 2.06.94-2.06 2.06-.94-2.06-.94-.94-2.06-.94 2.06-2.06.94zm-11 1L8.5 8.5l.94-2.06 2.06-.94-2.06-.94L8.5 2.5l-.94 2.06-2.06.94zm10 10l.94 2.06.94-2.06 2.06-.94-2.06-.94-.94-2.06-.94 2.06-2.06.94z\"/><path d=\"M17.41 7.96l-1.37-1.37c-.4-.4-.92-.59-1.43-.59-.52 0-1.04.2-1.43.59L10.3 9.45l-7.72 7.72c-.78.78-.78 2.05 0 2.83L4 21.41c.39.39.9.59 1.41.59.51 0 1.02-.2 1.41-.59l7.78-7.78 2.81-2.81c.8-.78.8-2.07 0-2.86zM5.41 20L4 18.59l7.72-7.72 1.47 1.35L5.41 20z\"/>\n",
              "  </svg>\n",
              "      </button>\n",
              "      \n",
              "  <style>\n",
              "    .colab-df-container {\n",
              "      display:flex;\n",
              "      flex-wrap:wrap;\n",
              "      gap: 12px;\n",
              "    }\n",
              "\n",
              "    .colab-df-convert {\n",
              "      background-color: #E8F0FE;\n",
              "      border: none;\n",
              "      border-radius: 50%;\n",
              "      cursor: pointer;\n",
              "      display: none;\n",
              "      fill: #1967D2;\n",
              "      height: 32px;\n",
              "      padding: 0 0 0 0;\n",
              "      width: 32px;\n",
              "    }\n",
              "\n",
              "    .colab-df-convert:hover {\n",
              "      background-color: #E2EBFA;\n",
              "      box-shadow: 0px 1px 2px rgba(60, 64, 67, 0.3), 0px 1px 3px 1px rgba(60, 64, 67, 0.15);\n",
              "      fill: #174EA6;\n",
              "    }\n",
              "\n",
              "    [theme=dark] .colab-df-convert {\n",
              "      background-color: #3B4455;\n",
              "      fill: #D2E3FC;\n",
              "    }\n",
              "\n",
              "    [theme=dark] .colab-df-convert:hover {\n",
              "      background-color: #434B5C;\n",
              "      box-shadow: 0px 1px 3px 1px rgba(0, 0, 0, 0.15);\n",
              "      filter: drop-shadow(0px 1px 2px rgba(0, 0, 0, 0.3));\n",
              "      fill: #FFFFFF;\n",
              "    }\n",
              "  </style>\n",
              "\n",
              "      <script>\n",
              "        const buttonEl =\n",
              "          document.querySelector('#df-ae8a5b19-f0a9-4528-9f08-fa625fb988ee button.colab-df-convert');\n",
              "        buttonEl.style.display =\n",
              "          google.colab.kernel.accessAllowed ? 'block' : 'none';\n",
              "\n",
              "        async function convertToInteractive(key) {\n",
              "          const element = document.querySelector('#df-ae8a5b19-f0a9-4528-9f08-fa625fb988ee');\n",
              "          const dataTable =\n",
              "            await google.colab.kernel.invokeFunction('convertToInteractive',\n",
              "                                                     [key], {});\n",
              "          if (!dataTable) return;\n",
              "\n",
              "          const docLinkHtml = 'Like what you see? Visit the ' +\n",
              "            '<a target=\"_blank\" href=https://colab.research.google.com/notebooks/data_table.ipynb>data table notebook</a>'\n",
              "            + ' to learn more about interactive tables.';\n",
              "          element.innerHTML = '';\n",
              "          dataTable['output_type'] = 'display_data';\n",
              "          await google.colab.output.renderOutput(dataTable, element);\n",
              "          const docLink = document.createElement('div');\n",
              "          docLink.innerHTML = docLinkHtml;\n",
              "          element.appendChild(docLink);\n",
              "        }\n",
              "      </script>\n",
              "    </div>\n",
              "  </div>\n",
              "  "
            ]
          },
          "metadata": {},
          "execution_count": 12
        }
      ]
    },
    {
      "cell_type": "code",
      "source": [
        "from sklearn.feature_extraction.text import TfidfVectorizer\n",
        "tfidf = TfidfVectorizer(stop_words='english')\n",
        "\n",
        "df['Final Col'] = df['Final Col'].fillna('')\n",
        "tfidf_matrix = tfidf.fit_transform(df['Final Col'])"
      ],
      "metadata": {
        "execution": {
          "iopub.status.busy": "2022-10-16T17:33:44.655156Z",
          "iopub.execute_input": "2022-10-16T17:33:44.655951Z",
          "iopub.status.idle": "2022-10-16T17:33:45.655801Z",
          "shell.execute_reply.started": "2022-10-16T17:33:44.655907Z",
          "shell.execute_reply": "2022-10-16T17:33:45.654827Z"
        },
        "trusted": true,
        "id": "HQy0AlBwDLG2"
      },
      "execution_count": null,
      "outputs": []
    },
    {
      "cell_type": "code",
      "source": [
        "from sklearn.metrics.pairwise import cosine_similarity\n",
        "similarity = cosine_similarity(tfidf_matrix)"
      ],
      "metadata": {
        "execution": {
          "iopub.status.busy": "2022-10-16T17:33:45.657030Z",
          "iopub.execute_input": "2022-10-16T17:33:45.657752Z",
          "iopub.status.idle": "2022-10-16T17:33:46.637118Z",
          "shell.execute_reply.started": "2022-10-16T17:33:45.657703Z",
          "shell.execute_reply": "2022-10-16T17:33:46.635874Z"
        },
        "trusted": true,
        "id": "ikAT5caUDLG2"
      },
      "execution_count": null,
      "outputs": []
    },
    {
      "cell_type": "code",
      "source": [
        "similarity"
      ],
      "metadata": {
        "execution": {
          "iopub.status.busy": "2022-10-16T17:33:46.638310Z",
          "iopub.execute_input": "2022-10-16T17:33:46.638668Z",
          "iopub.status.idle": "2022-10-16T17:33:46.646172Z",
          "shell.execute_reply.started": "2022-10-16T17:33:46.638637Z",
          "shell.execute_reply": "2022-10-16T17:33:46.645293Z"
        },
        "trusted": true,
        "colab": {
          "base_uri": "https://localhost:8080/"
        },
        "id": "qmrQSnviDLG3",
        "outputId": "2d78d0cc-83fb-4349-dc63-573ead877f09"
      },
      "execution_count": null,
      "outputs": [
        {
          "output_type": "execute_result",
          "data": {
            "text/plain": [
              "array([[1.        , 0.30259873, 0.33746048, ..., 0.02105205, 0.00841246,\n",
              "        0.03059284],\n",
              "       [0.30259873, 1.        , 0.11029032, ..., 0.00581057, 0.13364448,\n",
              "        0.00782385],\n",
              "       [0.33746048, 0.11029032, 1.        , ..., 0.00786879, 0.02064031,\n",
              "        0.05211112],\n",
              "       ...,\n",
              "       [0.02105205, 0.00581057, 0.00786879, ..., 1.        , 0.09064565,\n",
              "        0.02386352],\n",
              "       [0.00841246, 0.13364448, 0.02064031, ..., 0.09064565, 1.        ,\n",
              "        0.02194982],\n",
              "       [0.03059284, 0.00782385, 0.05211112, ..., 0.02386352, 0.02194982,\n",
              "        1.        ]])"
            ]
          },
          "metadata": {},
          "execution_count": 15
        }
      ]
    },
    {
      "cell_type": "code",
      "source": [
        "indices = pd.Series(df.index, index=df['Title']).drop_duplicates()"
      ],
      "metadata": {
        "execution": {
          "iopub.status.busy": "2022-10-16T17:33:46.647363Z",
          "iopub.execute_input": "2022-10-16T17:33:46.647686Z",
          "iopub.status.idle": "2022-10-16T17:33:46.658432Z",
          "shell.execute_reply.started": "2022-10-16T17:33:46.647657Z",
          "shell.execute_reply": "2022-10-16T17:33:46.657768Z"
        },
        "trusted": true,
        "id": "JYu5uIukDLG3"
      },
      "execution_count": null,
      "outputs": []
    },
    {
      "cell_type": "code",
      "source": [
        "def get_recommendations(title, cosine_sim=similarity):\n",
        "    idx = indices[title]\n",
        "    sim_scores = list(enumerate(cosine_sim[idx]))\n",
        "    sim_scores = sorted(sim_scores, key=lambda x: x[1], reverse=True)\n",
        "    sim_scores = sim_scores[1:6]\n",
        "    courses = [i[0] for i in sim_scores]\n",
        "\n",
        "    return df['Title'].iloc[courses]"
      ],
      "metadata": {
        "execution": {
          "iopub.status.busy": "2022-10-16T17:33:46.659726Z",
          "iopub.execute_input": "2022-10-16T17:33:46.660267Z",
          "iopub.status.idle": "2022-10-16T17:33:46.669215Z",
          "shell.execute_reply.started": "2022-10-16T17:33:46.660234Z",
          "shell.execute_reply": "2022-10-16T17:33:46.668513Z"
        },
        "trusted": true,
        "id": "fpWutesmDLG3"
      },
      "execution_count": null,
      "outputs": []
    },
    {
      "cell_type": "code",
      "source": [
        "get_recommendations('Python Operators')"
      ],
      "metadata": {
        "execution": {
          "iopub.status.busy": "2022-10-16T17:38:39.250916Z",
          "iopub.execute_input": "2022-10-16T17:38:39.251450Z",
          "iopub.status.idle": "2022-10-16T17:38:39.263397Z",
          "shell.execute_reply.started": "2022-10-16T17:38:39.251411Z",
          "shell.execute_reply": "2022-10-16T17:38:39.262689Z"
        },
        "trusted": true,
        "colab": {
          "base_uri": "https://localhost:8080/"
        },
        "id": "VllMdLvQDLG4",
        "outputId": "7c15233d-fab5-4def-a1d8-98590d7d3924"
      },
      "execution_count": null,
      "outputs": [
        {
          "output_type": "execute_result",
          "data": {
            "text/plain": [
              "3         Inplace vs Standard Operators in Python\n",
              "2           Logical Operators on String in Python\n",
              "1     Increment and Decrement Operators in Python\n",
              "4                                Python Datatypes\n",
              "32                         Polymorphism in Python\n",
              "Name: Title, dtype: object"
            ]
          },
          "metadata": {},
          "execution_count": 20
        }
      ]
    },
    {
      "cell_type": "code",
      "source": [
        "get_recommendations('Python OOPs Concepts')"
      ],
      "metadata": {
        "execution": {
          "iopub.status.busy": "2022-10-16T17:49:20.188744Z",
          "iopub.execute_input": "2022-10-16T17:49:20.189274Z",
          "iopub.status.idle": "2022-10-16T17:49:20.253020Z",
          "shell.execute_reply.started": "2022-10-16T17:49:20.189238Z",
          "shell.execute_reply": "2022-10-16T17:49:20.251601Z"
        },
        "trusted": true,
        "colab": {
          "base_uri": "https://localhost:8080/"
        },
        "id": "_NQ4vONPDLG4",
        "outputId": "80dd326a-02d3-4164-97af-5e5cb0ba7ea1"
      },
      "execution_count": null,
      "outputs": [
        {
          "output_type": "execute_result",
          "data": {
            "text/plain": [
              "31                          Encapsulation in Python\n",
              "33      Ways of implementing Polymorphism in Python\n",
              "74    How to control PC from anywhere using Python?\n",
              "4                                  Python Datatypes\n",
              "21                       Python Classes and Objects\n",
              "Name: Title, dtype: object"
            ]
          },
          "metadata": {},
          "execution_count": 22
        }
      ]
    }
  ]
}